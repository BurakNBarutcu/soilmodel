{
  "cells": [
    {
      "cell_type": "markdown",
      "metadata": {
        "id": "esUl7XFrA9XU"
      },
      "source": [
        "# Obtaining Soilmodel from Earthquake Data by Using Deep Learning Methods"
      ]
    },
    {
      "cell_type": "markdown",
      "metadata": {
        "id": "zb_O2_SxA9Xr"
      },
      "source": [
        "## Data Preparation"
      ]
    },
    {
      "cell_type": "markdown",
      "metadata": {
        "id": "W2nrovulA9Xy"
      },
      "source": [
        "Seismic data of 06/02/2023 earthquake occured at Kahraman Maras, Turkey is obtained from the database of Kandilli Rasathanesi. The seismic signals are collected at KMRS station and GAZ Station which can be seen from the below figure. The signals are the velocity measurements of that earthqueke and they are processed to preare them for training a neural network model."
      ]
    },
    {
      "cell_type": "code",
      "execution_count": null,
      "metadata": {
        "colab": {
          "base_uri": "https://localhost:8080/"
        },
        "id": "zY23HO2mA9X3",
        "outputId": "ff12cb5d-9e5c-469b-ff34-518cfc84f941"
      },
      "outputs": [],
      "source": [
        "# from obspy import read, UTCDateTime\n",
        "# import numpy as np\n",
        "\n",
        "# # Read data from MSeed files\n",
        "# gaz = read('./src/envs/data/gaz.mseed')\n",
        "# kmrs = read('./src/envs/data/kmrs.mseed')\n",
        "\n",
        "# # gaz.plot(size=(800, 400))\n",
        "# # kmrs.plot(size=(800, 400))\n",
        "\n",
        "# # gaz_filtered = gaz.copy()\n",
        "# gaz.filter('lowpass',freq=10.0, corners=100, zerophase=True)\n",
        "# kmrs.filter('lowpass',freq=10.0, corners=100, zerophase=True)\n",
        "# # gaz_filtered.plot();\n",
        "\n",
        "# # Crop data between specific date and time\n",
        "# start_time = UTCDateTime(\"2023-02-06T04:00:00.000\")\n",
        "# end_time = UTCDateTime(\"2023-02-06T04:16:20.000\")\n",
        "\n",
        "# gaz_editted = gaz.cutout(start_time,end_time)\n",
        "# kmrs_editted = kmrs.cutout(start_time,end_time)\n",
        "\n",
        "# start_time = UTCDateTime(\"2023-02-06T04:18:00.000\")\n",
        "# end_time = UTCDateTime(\"2023-02-06T04:50:00.000\")\n",
        "\n",
        "# gaz_editted = gaz_editted.cutout(start_time,end_time)\n",
        "# kmrs_editted = kmrs_editted.cutout(start_time,end_time)\n",
        "\n",
        "# # gaz_editted.plot(size=(800, 400))\n",
        "# # kmrs_editted.plot(size=(800, 400))\n",
        "\n",
        "# # Merge data of different channels on single array\n",
        "# gaz_HHE_data = []\n",
        "# gaz_HHN_data = []\n",
        "# gaz_HHZ_data = []\n",
        "# index_start, index_end = [0, 4, 5], [4, 5, 9]\n",
        "\n",
        "# for i in range(index_start[0], index_end[0]):\n",
        "#     gaz_HHE_data = np.concatenate((gaz_HHE_data,gaz_editted[i].data), axis=None)\n",
        "\n",
        "# for i in range(index_start[1], index_end[1]):\n",
        "#     gaz_HHN_data = np.concatenate((gaz_HHN_data,gaz_editted[i].data), axis=None)\n",
        "\n",
        "# for i in range(index_start[2], index_end[2]):\n",
        "#     gaz_HHZ_data = np.concatenate((gaz_HHZ_data,gaz_editted[i].data), axis=None)\n",
        "\n",
        "# gaz_HHE_data = gaz_HHE_data.reshape(-1,1)\n",
        "# gaz_HHN_data = gaz_HHN_data.reshape(-1,1)\n",
        "# gaz_HHZ_data = gaz_HHZ_data.reshape(-1,1)\n",
        "\n",
        "# print('Size of HHE Data of GAZ Station:', gaz_HHE_data.shape)\n",
        "# print('Size of HHN Data of GAZ Station:', gaz_HHN_data.shape)\n",
        "# print('Size of HHZ Data of GAZ Station:', gaz_HHZ_data.shape)\n",
        "# print('-------------------------------------------------------')\n",
        "\n",
        "# kmrs_HHE_data = kmrs_editted[0].data.reshape(-1,1)\n",
        "# kmrs_HHN_data = kmrs_editted[1].data.reshape(-1,1)\n",
        "# kmrs_HHZ_data = kmrs_editted[2].data.reshape(-1,1)\n",
        "\n",
        "# print('Size of HHE Data of KMRS Station:', kmrs_HHE_data.shape)\n",
        "# print('Size of HHN Data of KMRS Station:', kmrs_HHN_data.shape)\n",
        "# print('Size of HHZ Data of KMRS Station:', kmrs_HHZ_data.shape)\n",
        "# print('-------------------------------------------------------')\n",
        "\n",
        "# measurement_data = np.hstack((gaz_HHE_data,gaz_HHN_data,gaz_HHZ_data))\n",
        "# input_data = np.hstack((kmrs_HHE_data,kmrs_HHN_data,kmrs_HHZ_data))\n"
      ]
    },
    {
      "cell_type": "markdown",
      "metadata": {
        "id": "pfnPELmRA9YQ"
      },
      "source": [
        "## 1. Import Libraries, Read Data from the MSeed Files and Convert into Numpy Array, Define Parameters and Hyperparameters"
      ]
    },
    {
      "cell_type": "code",
      "execution_count": null,
      "metadata": {
        "id": "hQfQITQgA9Yd"
      },
      "outputs": [],
      "source": [
        "import torch\n",
        "from torch import nn\n",
        "from datetime import datetime\n",
        "from src.nnmodel.annmodel import LSTMmodel\n",
        "import src.envs.environment as envi\n",
        "import scripts.utils as utl\n",
        "\n",
        "from torch.utils.tensorboard import SummaryWriter\n",
        "writer = SummaryWriter()\n",
        "\n",
        "### Prepare Data ###\n",
        "# start_time = \"2023-02-05T03:00:00.000\"\n",
        "# end_time = \"2023-02-13T03:59:59.000\"\n",
        "# folder_name = './src/envs/data/Input/'\n",
        "\n",
        "# station_name, data = envi.edit_stream(start_time=start_time, end_time=end_time, type_of_data='raw',\n",
        "#                                       input_folder_name=folder_name, save_stream=True, filter=False, filter_freq=10.0)\n",
        "\n",
        "station_name, main_stream = envi.edit_stream(type_of_data='merged',\n",
        "                                             input_folder_name='./src/envs/data/', save_stream=False, filter=False, filter_freq=10.0)\n",
        "print('-------------------------------------------------------')\n",
        "print(f'Station names are as follows: {station_name}')\n",
        "print('-------------------------------------------------------')\n",
        "measurement_data = envi.stream2array(main_stream.select(station=station_name[0]))\n",
        "input_data = envi.stream2array(main_stream.select(station=station_name[1]))\n",
        "\n",
        "\n",
        "print(f\"Size of Gaziantep Data (States):{measurement_data.shape}\")\n",
        "print(f\"Size of Kahraman Maras Data (Disturbance):{input_data.shape}\")\n",
        "print('-------------------------------------------------------')\n",
        "###\n",
        "\n",
        "comp_device = \"cuda\" if torch.cuda.is_available() else \"cpu\"\n",
        "print(f\"Using device: {comp_device}\")\n",
        "\n",
        "# Define Hyperparameters\n",
        "HIDDEN_SIZE_1 = 128\n",
        "HIDDEN_SIZE_2 = 64\n",
        "LEARNING_RATE = 1e-3\n",
        "\n",
        "\n",
        "# Define training parameters\n",
        "terminate_loss = 1e-5\n",
        "max_epoch = 5e3 # maximum number of epochs for trainig\n",
        "print_interval = 10 # Print interval during training\n",
        "batch_size = 262144 # GPU memory will be at the limits like 11.8 GB/12.0 GB for 2^19, 2^18 = 262144 might be better."
      ]
    },
    {
      "cell_type": "markdown",
      "metadata": {},
      "source": [
        "## 2. Generate DataLoader and Define Forward Pass Function"
      ]
    },
    {
      "cell_type": "code",
      "execution_count": null,
      "metadata": {},
      "outputs": [],
      "source": [
        "env = envi.environment(states=measurement_data,\n",
        "                       disturbance=input_data,\n",
        "                       device=comp_device,\n",
        "                       scale=True)\n",
        "\n",
        "Train_dataloader, num_input, num_output, Test_dataloader = env.gen_dataset(\n",
        "    batch_size=batch_size, shuffle=False, split_data=True)\n",
        "\n",
        "def forward_pass(data, model: torch.nn.Module):\n",
        "    return model(data)"
      ]
    },
    {
      "cell_type": "markdown",
      "metadata": {},
      "source": [
        "## 3. Define Optimizer, Loss Function and Setup Trainer"
      ]
    },
    {
      "cell_type": "code",
      "execution_count": null,
      "metadata": {
        "id": "8Gk6U0LSA9Yq"
      },
      "outputs": [],
      "source": [
        "nn_model = LSTMmodel(input_size = num_input,\n",
        "                    out_size = num_output,\n",
        "                    hidden_size_1 = HIDDEN_SIZE_1,\n",
        "                    hidden_size_2 = HIDDEN_SIZE_1,\n",
        "                    device = comp_device).to(comp_device)\n",
        "\n",
        "# loss_fn = nn.MSELoss()\n",
        "# loss_fn = nn.L1Loss(reduction=\"sum\")\n",
        "loss_fn = nn.L1Loss()\n",
        "optimizer = torch.optim.Adam(params=nn_model.parameters(), lr=LEARNING_RATE)\n",
        "\n",
        "# Setup trainer\n",
        "trainer = utl.Trainer(\n",
        "    model= nn_model,\n",
        "    forward=forward_pass,\n",
        "    optimizer = optimizer,\n",
        "    loss_fn = loss_fn,\n",
        "    print_every = print_interval,\n",
        "    schedular = False,\n",
        "    patience = 100,\n",
        ")"
      ]
    },
    {
      "cell_type": "markdown",
      "metadata": {},
      "source": [
        "## 4. Train Model"
      ]
    },
    {
      "cell_type": "code",
      "execution_count": null,
      "metadata": {
        "colab": {
          "base_uri": "https://localhost:8080/",
          "height": 1000,
          "referenced_widgets": [
            "a9d42d8176224dd09efc5964bbc4c325",
            "276c94dbb66d4ecf80edec8519a3a714",
            "d9e4ed12b2464aac91998d6a903b5114",
            "c2d3ca3fd6f349ee99b222a9d387d233",
            "3bbca105844345ae93b38e8ad64fa64a",
            "6836792045c8494e90247f64241387ed",
            "9db63c8c56914a6d83f5a9d2cf5b712c",
            "de19ee01cfd24c8c8ac49c879f7e9c56",
            "899970afb9814dd7bb39070a7b4f43a8",
            "c3fbbe950fa34e6ea104525a0344b736",
            "0e5c142b6fee4229b292b1d20f18064f"
          ]
        },
        "id": "4G9WZNHCA9Yr",
        "outputId": "5586cb2a-d7da-4868-c57d-3ac2ef78f71e"
      },
      "outputs": [],
      "source": [
        "date_time = datetime.now().strftime(\"%Y%m%d_%H%M%S\")\n",
        "model_name=date_time+\"_BestModel_\"+str(num_input)\n",
        "\n",
        "trainer.train(train_data=Train_dataloader,\n",
        "            max_epoch=max_epoch,\n",
        "            save_checkpoints=False,\n",
        "            model_name=model_name,\n",
        "            eval_data = Test_dataloader,\n",
        "            evaluation = True,\n",
        "            writer = writer)"
      ]
    },
    {
      "cell_type": "markdown",
      "metadata": {
        "id": "TFlM6Kmg-782"
      },
      "source": [
        "## 5. Make Predictions (Burada SIKINTI VAR!!)"
      ]
    },
    {
      "cell_type": "code",
      "execution_count": null,
      "metadata": {
        "colab": {
          "base_uri": "https://localhost:8080/",
          "height": 448
        },
        "id": "f6HdPQb5-60y",
        "outputId": "094fbb65-8500-4a77-ca05-0bd1a41b7301"
      },
      "outputs": [],
      "source": [
        "import matplotlib.pyplot as plt\n",
        "train_inputs, train_labels = env._data_reshape()\n",
        "\n",
        "# nn_model.to('cpu')\n",
        "# loss_fn = nn.L1Loss()\n",
        "# optimizer = torch.optim.Adam(params=nn_model.parameters(), lr=LEARNING_RATE)\n",
        "\n",
        "# train_inputs, train_labels = train_inputs.to('cpu'), train_labels.to('cpu')\n",
        "\n",
        "with torch.inference_mode():\n",
        "    predictions = nn_model(train_inputs)\n",
        "    loss = loss_fn(predictions, train_labels)\n",
        "    print(f\"Total Calculated Loss Value is {loss}\")\n",
        "labels = [\"HHE\", \"HHN\", \"HHZ\"]\n",
        "\n",
        "for i in range(3):\n",
        "    plt.plot(predictions[:,i].cpu(), 'g', linewidth=2, label=f'Predictions for {labels[i]}')\n",
        "    plt.plot(train_labels[:,i].cpu(), 'r', linewidth=1, label=f'True Value for {labels[i]}')\n",
        "    plt.title(f'Comparison Plot of Prediction and True Value for {labels[i]}')\n",
        "    plt.legend()\n",
        "    plt.grid()\n",
        "    plt.show()"
      ]
    },
    {
      "cell_type": "code",
      "execution_count": null,
      "metadata": {},
      "outputs": [],
      "source": []
    }
  ],
  "metadata": {
    "accelerator": "GPU",
    "colab": {
      "gpuType": "T4",
      "provenance": []
    },
    "kernelspec": {
      "display_name": "Python 3",
      "name": "python3"
    },
    "language_info": {
      "codemirror_mode": {
        "name": "ipython",
        "version": 3
      },
      "file_extension": ".py",
      "mimetype": "text/x-python",
      "name": "python",
      "nbconvert_exporter": "python",
      "pygments_lexer": "ipython3",
      "version": "3.11.3"
    },
    "orig_nbformat": 4,
    "widgets": {
      "application/vnd.jupyter.widget-state+json": {
        "0e5c142b6fee4229b292b1d20f18064f": {
          "model_module": "@jupyter-widgets/controls",
          "model_module_version": "1.5.0",
          "model_name": "DescriptionStyleModel",
          "state": {
            "_model_module": "@jupyter-widgets/controls",
            "_model_module_version": "1.5.0",
            "_model_name": "DescriptionStyleModel",
            "_view_count": null,
            "_view_module": "@jupyter-widgets/base",
            "_view_module_version": "1.2.0",
            "_view_name": "StyleView",
            "description_width": ""
          }
        },
        "276c94dbb66d4ecf80edec8519a3a714": {
          "model_module": "@jupyter-widgets/controls",
          "model_module_version": "1.5.0",
          "model_name": "HTMLModel",
          "state": {
            "_dom_classes": [],
            "_model_module": "@jupyter-widgets/controls",
            "_model_module_version": "1.5.0",
            "_model_name": "HTMLModel",
            "_view_count": null,
            "_view_module": "@jupyter-widgets/controls",
            "_view_module_version": "1.5.0",
            "_view_name": "HTMLView",
            "description": "",
            "description_tooltip": null,
            "layout": "IPY_MODEL_6836792045c8494e90247f64241387ed",
            "placeholder": "​",
            "style": "IPY_MODEL_9db63c8c56914a6d83f5a9d2cf5b712c",
            "value": " Number of Epochs:  24%"
          }
        },
        "3bbca105844345ae93b38e8ad64fa64a": {
          "model_module": "@jupyter-widgets/base",
          "model_module_version": "1.2.0",
          "model_name": "LayoutModel",
          "state": {
            "_model_module": "@jupyter-widgets/base",
            "_model_module_version": "1.2.0",
            "_model_name": "LayoutModel",
            "_view_count": null,
            "_view_module": "@jupyter-widgets/base",
            "_view_module_version": "1.2.0",
            "_view_name": "LayoutView",
            "align_content": null,
            "align_items": null,
            "align_self": null,
            "border": null,
            "bottom": null,
            "display": null,
            "flex": null,
            "flex_flow": null,
            "grid_area": null,
            "grid_auto_columns": null,
            "grid_auto_flow": null,
            "grid_auto_rows": null,
            "grid_column": null,
            "grid_gap": null,
            "grid_row": null,
            "grid_template_areas": null,
            "grid_template_columns": null,
            "grid_template_rows": null,
            "height": null,
            "justify_content": null,
            "justify_items": null,
            "left": null,
            "margin": null,
            "max_height": null,
            "max_width": null,
            "min_height": null,
            "min_width": null,
            "object_fit": null,
            "object_position": null,
            "order": null,
            "overflow": null,
            "overflow_x": null,
            "overflow_y": null,
            "padding": null,
            "right": null,
            "top": null,
            "visibility": null,
            "width": null
          }
        },
        "6836792045c8494e90247f64241387ed": {
          "model_module": "@jupyter-widgets/base",
          "model_module_version": "1.2.0",
          "model_name": "LayoutModel",
          "state": {
            "_model_module": "@jupyter-widgets/base",
            "_model_module_version": "1.2.0",
            "_model_name": "LayoutModel",
            "_view_count": null,
            "_view_module": "@jupyter-widgets/base",
            "_view_module_version": "1.2.0",
            "_view_name": "LayoutView",
            "align_content": null,
            "align_items": null,
            "align_self": null,
            "border": null,
            "bottom": null,
            "display": null,
            "flex": null,
            "flex_flow": null,
            "grid_area": null,
            "grid_auto_columns": null,
            "grid_auto_flow": null,
            "grid_auto_rows": null,
            "grid_column": null,
            "grid_gap": null,
            "grid_row": null,
            "grid_template_areas": null,
            "grid_template_columns": null,
            "grid_template_rows": null,
            "height": null,
            "justify_content": null,
            "justify_items": null,
            "left": null,
            "margin": null,
            "max_height": null,
            "max_width": null,
            "min_height": null,
            "min_width": null,
            "object_fit": null,
            "object_position": null,
            "order": null,
            "overflow": null,
            "overflow_x": null,
            "overflow_y": null,
            "padding": null,
            "right": null,
            "top": null,
            "visibility": null,
            "width": null
          }
        },
        "899970afb9814dd7bb39070a7b4f43a8": {
          "model_module": "@jupyter-widgets/controls",
          "model_module_version": "1.5.0",
          "model_name": "ProgressStyleModel",
          "state": {
            "_model_module": "@jupyter-widgets/controls",
            "_model_module_version": "1.5.0",
            "_model_name": "ProgressStyleModel",
            "_view_count": null,
            "_view_module": "@jupyter-widgets/base",
            "_view_module_version": "1.2.0",
            "_view_name": "StyleView",
            "bar_color": null,
            "description_width": ""
          }
        },
        "9db63c8c56914a6d83f5a9d2cf5b712c": {
          "model_module": "@jupyter-widgets/controls",
          "model_module_version": "1.5.0",
          "model_name": "DescriptionStyleModel",
          "state": {
            "_model_module": "@jupyter-widgets/controls",
            "_model_module_version": "1.5.0",
            "_model_name": "DescriptionStyleModel",
            "_view_count": null,
            "_view_module": "@jupyter-widgets/base",
            "_view_module_version": "1.2.0",
            "_view_name": "StyleView",
            "description_width": ""
          }
        },
        "a9d42d8176224dd09efc5964bbc4c325": {
          "model_module": "@jupyter-widgets/controls",
          "model_module_version": "1.5.0",
          "model_name": "HBoxModel",
          "state": {
            "_dom_classes": [],
            "_model_module": "@jupyter-widgets/controls",
            "_model_module_version": "1.5.0",
            "_model_name": "HBoxModel",
            "_view_count": null,
            "_view_module": "@jupyter-widgets/controls",
            "_view_module_version": "1.5.0",
            "_view_name": "HBoxView",
            "box_style": "",
            "children": [
              "IPY_MODEL_276c94dbb66d4ecf80edec8519a3a714",
              "IPY_MODEL_d9e4ed12b2464aac91998d6a903b5114",
              "IPY_MODEL_c2d3ca3fd6f349ee99b222a9d387d233"
            ],
            "layout": "IPY_MODEL_3bbca105844345ae93b38e8ad64fa64a"
          }
        },
        "c2d3ca3fd6f349ee99b222a9d387d233": {
          "model_module": "@jupyter-widgets/controls",
          "model_module_version": "1.5.0",
          "model_name": "HTMLModel",
          "state": {
            "_dom_classes": [],
            "_model_module": "@jupyter-widgets/controls",
            "_model_module_version": "1.5.0",
            "_model_name": "HTMLModel",
            "_view_count": null,
            "_view_module": "@jupyter-widgets/controls",
            "_view_module_version": "1.5.0",
            "_view_name": "HTMLView",
            "description": "",
            "description_tooltip": null,
            "layout": "IPY_MODEL_c3fbbe950fa34e6ea104525a0344b736",
            "placeholder": "​",
            "style": "IPY_MODEL_0e5c142b6fee4229b292b1d20f18064f",
            "value": " 725/3001 [01:33&lt;07:37,  4.97it/s]"
          }
        },
        "c3fbbe950fa34e6ea104525a0344b736": {
          "model_module": "@jupyter-widgets/base",
          "model_module_version": "1.2.0",
          "model_name": "LayoutModel",
          "state": {
            "_model_module": "@jupyter-widgets/base",
            "_model_module_version": "1.2.0",
            "_model_name": "LayoutModel",
            "_view_count": null,
            "_view_module": "@jupyter-widgets/base",
            "_view_module_version": "1.2.0",
            "_view_name": "LayoutView",
            "align_content": null,
            "align_items": null,
            "align_self": null,
            "border": null,
            "bottom": null,
            "display": null,
            "flex": null,
            "flex_flow": null,
            "grid_area": null,
            "grid_auto_columns": null,
            "grid_auto_flow": null,
            "grid_auto_rows": null,
            "grid_column": null,
            "grid_gap": null,
            "grid_row": null,
            "grid_template_areas": null,
            "grid_template_columns": null,
            "grid_template_rows": null,
            "height": null,
            "justify_content": null,
            "justify_items": null,
            "left": null,
            "margin": null,
            "max_height": null,
            "max_width": null,
            "min_height": null,
            "min_width": null,
            "object_fit": null,
            "object_position": null,
            "order": null,
            "overflow": null,
            "overflow_x": null,
            "overflow_y": null,
            "padding": null,
            "right": null,
            "top": null,
            "visibility": null,
            "width": null
          }
        },
        "d9e4ed12b2464aac91998d6a903b5114": {
          "model_module": "@jupyter-widgets/controls",
          "model_module_version": "1.5.0",
          "model_name": "FloatProgressModel",
          "state": {
            "_dom_classes": [],
            "_model_module": "@jupyter-widgets/controls",
            "_model_module_version": "1.5.0",
            "_model_name": "FloatProgressModel",
            "_view_count": null,
            "_view_module": "@jupyter-widgets/controls",
            "_view_module_version": "1.5.0",
            "_view_name": "ProgressView",
            "bar_style": "danger",
            "description": "",
            "description_tooltip": null,
            "layout": "IPY_MODEL_de19ee01cfd24c8c8ac49c879f7e9c56",
            "max": 3001,
            "min": 0,
            "orientation": "horizontal",
            "style": "IPY_MODEL_899970afb9814dd7bb39070a7b4f43a8",
            "value": 725
          }
        },
        "de19ee01cfd24c8c8ac49c879f7e9c56": {
          "model_module": "@jupyter-widgets/base",
          "model_module_version": "1.2.0",
          "model_name": "LayoutModel",
          "state": {
            "_model_module": "@jupyter-widgets/base",
            "_model_module_version": "1.2.0",
            "_model_name": "LayoutModel",
            "_view_count": null,
            "_view_module": "@jupyter-widgets/base",
            "_view_module_version": "1.2.0",
            "_view_name": "LayoutView",
            "align_content": null,
            "align_items": null,
            "align_self": null,
            "border": null,
            "bottom": null,
            "display": null,
            "flex": null,
            "flex_flow": null,
            "grid_area": null,
            "grid_auto_columns": null,
            "grid_auto_flow": null,
            "grid_auto_rows": null,
            "grid_column": null,
            "grid_gap": null,
            "grid_row": null,
            "grid_template_areas": null,
            "grid_template_columns": null,
            "grid_template_rows": null,
            "height": null,
            "justify_content": null,
            "justify_items": null,
            "left": null,
            "margin": null,
            "max_height": null,
            "max_width": null,
            "min_height": null,
            "min_width": null,
            "object_fit": null,
            "object_position": null,
            "order": null,
            "overflow": null,
            "overflow_x": null,
            "overflow_y": null,
            "padding": null,
            "right": null,
            "top": null,
            "visibility": null,
            "width": null
          }
        }
      }
    }
  },
  "nbformat": 4,
  "nbformat_minor": 0
}
